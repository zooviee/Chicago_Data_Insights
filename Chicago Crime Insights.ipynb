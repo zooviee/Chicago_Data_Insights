{
 "cells": [
  {
   "cell_type": "markdown",
   "id": "5bafab8c",
   "metadata": {},
   "source": [
    "## Chicago Public Schools - Progress Report Cards (2011-2012)\n",
    "\n",
    "The city of Chicago released a dataset showing all school level performance data used to create School Report Cards for the 2011-2012 school year. The dataset is available from the Chicago Data Portal: [https://data.cityofchicago.org/Education/Chicago-Public-Schools-Progress-Report-Cards-2011-/9xs2-f89t](https://data.cityofchicago.org/Education/Chicago-Public-Schools-Progress-Report-Cards-2011-/9xs2-f89t?utm_medium=Exinfluencer&utm_source=Exinfluencer&utm_content=000026UJ&utm_term=10006555&utm_id=NA-SkillsNetwork-Channel-SkillsNetworkCoursesIBMDeveloperSkillsNetworkDB0201ENSkillsNetwork20127838-2021-01-01&cm_mmc=Email_Newsletter-_-Developer_Ed%2BTech-_-WW_WW-_-SkillsNetwork-Courses-IBMDeveloperSkillsNetwork-DB0201EN-SkillsNetwork-20127838&cm_mmca1=000026UJ&cm_mmca2=10006555&cm_mmca3=M12345678&cvosrc=email.Newsletter.M12345678&cvo_campaign=000026UJ)\n",
    "\n",
    "This dataset includes a large number of metrics. Start by familiarizing yourself with the types of metrics in the database: [https://data.cityofchicago.org/api/assets/AAD41A13-BE8A-4E67-B1F5-86E711E09D5F?download=true](https://data.cityofchicago.org/api/assets/AAD41A13-BE8A-4E67-B1F5-86E711E09D5F?utm_medium=Exinfluencer&utm_source=Exinfluencer&utm_content=000026UJ&utm_term=10006555&utm_id=NA-SkillsNetwork-Channel-SkillsNetworkCoursesIBMDeveloperSkillsNetworkDB0201ENSkillsNetwork20127838-2021-01-01&download=true&cm_mmc=Email_Newsletter-_-Developer_Ed%2BTech-_-WW_WW-_-SkillsNetwork-Courses-IBMDeveloperSkillsNetwork-DB0201EN-SkillsNetwork-20127838&cm_mmca1=000026UJ&cm_mmca2=10006555&cm_mmca3=M12345678&cvosrc=email.Newsletter.M12345678&cvo_campaign=000026UJ)"
   ]
  },
  {
   "cell_type": "markdown",
   "id": "e1103378",
   "metadata": {},
   "source": [
    "### Connect to the database\n",
    "\n",
    "Let us now load the ipython-sql  extension and establish a connection with the database\n",
    "\n",
    "##### The syntax for connecting to magic sql using sqllite is\n",
    "\n",
    "  **%sql sqlite://DatabaseName**   \n",
    "  \n",
    "where DatabaseName will be your **.db** file "
   ]
  },
  {
   "cell_type": "code",
   "execution_count": 1,
   "id": "6b3fde0c",
   "metadata": {},
   "outputs": [],
   "source": [
    "import csv, sqlite3\n",
    "\n",
    "con = sqlite3.connect(\"RealWorldData.db\")\n",
    "cur = con.cursor()"
   ]
  },
  {
   "cell_type": "code",
   "execution_count": 2,
   "id": "f0930cbb",
   "metadata": {},
   "outputs": [],
   "source": [
    "# preparing the sql environment\n",
    "%load_ext sql"
   ]
  },
  {
   "cell_type": "code",
   "execution_count": 3,
   "id": "70fd9ace",
   "metadata": {},
   "outputs": [
    {
     "data": {
      "text/html": [
       "<span style=\"None\">Connecting to &#x27;sqlite:///RealWorldData.db&#x27;</span>"
      ],
      "text/plain": [
       "Connecting to 'sqlite:///RealWorldData.db'"
      ]
     },
     "metadata": {},
     "output_type": "display_data"
    }
   ],
   "source": [
    "# connect to the database\n",
    "%sql sqlite:///RealWorldData.db"
   ]
  },
  {
   "cell_type": "markdown",
   "id": "0ed8ecb3",
   "metadata": {},
   "source": [
    "### Store the dataset in a Table\n",
    "\n",
    "##### In many cases the dataset to be analyzed is available as a .CSV (comma separated values) file, perhaps on the internet. To analyze the data \n",
    "##### using SQL, it first needs to be stored in the database.\n",
    "\n",
    "##### We will first read the csv files  from the given url  into pandas dataframes\n",
    "\n",
    "##### Next we will be using the  df.to_sql() function to convert each csv file  to a table in sqlite  with the csv data loaded in it."
   ]
  },
  {
   "cell_type": "code",
   "execution_count": 4,
   "id": "0e86a524",
   "metadata": {},
   "outputs": [
    {
     "data": {
      "text/plain": [
       "566"
      ]
     },
     "execution_count": 4,
     "metadata": {},
     "output_type": "execute_result"
    }
   ],
   "source": [
    "import pandas\n",
    "df = pandas.read_csv(\"https://cf-courses-data.s3.us.cloud-object-storage.appdomain.cloud/IBMDeveloperSkillsNetwork-DB0201EN-SkillsNetwork/labs/FinalModule_Coursera_V5/data/ChicagoCensusData.csv\")\n",
    "df.to_sql(\"CENSUS_DATA\", con, if_exists='replace', index=False,method=\"multi\")\n",
    "\n",
    "df = pandas.read_csv(\"https://cf-courses-data.s3.us.cloud-object-storage.appdomain.cloud/IBMDeveloperSkillsNetwork-DB0201EN-SkillsNetwork/labs/FinalModule_Coursera_V5/data/ChicagoCrimeData.csv\")\n",
    "df.to_sql(\"CHICAGO_CRIME_DATA\", con, if_exists='replace', index=False, method=\"multi\")\n",
    "\n",
    "df = pandas.read_csv(\"https://cf-courses-data.s3.us.cloud-object-storage.appdomain.cloud/IBMDeveloperSkillsNetwork-DB0201EN-SkillsNetwork/labs/FinalModule_Coursera_V5/data/ChicagoPublicSchools.csv\")\n",
    "df.to_sql(\"CHICAGO_PUBLIC_SCHOOLS_DATA\", con, if_exists='replace', index=False, method=\"multi\")"
   ]
  },
  {
   "cell_type": "markdown",
   "id": "07e06844",
   "metadata": {},
   "source": [
    "### Query the database system catalog to retrieve table metadata\n",
    "\n",
    "##### You can verify that the table creation was successful by retrieving the list of all tables in your schema and checking whether the SCHOOLS table was created"
   ]
  },
  {
   "cell_type": "code",
   "execution_count": 5,
   "id": "ba054ca8",
   "metadata": {},
   "outputs": [
    {
     "data": {
      "text/html": [
       "<span style=\"None\">Running query in &#x27;sqlite:///RealWorldData.db&#x27;</span>"
      ],
      "text/plain": [
       "Running query in 'sqlite:///RealWorldData.db'"
      ]
     },
     "metadata": {},
     "output_type": "display_data"
    },
    {
     "data": {
      "text/html": [
       "<table>\n",
       "    <thead>\n",
       "        <tr>\n",
       "            <th>name</th>\n",
       "        </tr>\n",
       "    </thead>\n",
       "    <tbody>\n",
       "        <tr>\n",
       "            <td>CENSUS_DATA</td>\n",
       "        </tr>\n",
       "        <tr>\n",
       "            <td>CHICAGO_CRIME_DATA</td>\n",
       "        </tr>\n",
       "        <tr>\n",
       "            <td>CHICAGO_PUBLIC_SCHOOLS_DATA</td>\n",
       "        </tr>\n",
       "    </tbody>\n",
       "</table>"
      ],
      "text/plain": [
       "+-----------------------------+\n",
       "|             name            |\n",
       "+-----------------------------+\n",
       "|         CENSUS_DATA         |\n",
       "|      CHICAGO_CRIME_DATA     |\n",
       "| CHICAGO_PUBLIC_SCHOOLS_DATA |\n",
       "+-----------------------------+"
      ]
     },
     "execution_count": 5,
     "metadata": {},
     "output_type": "execute_result"
    }
   ],
   "source": [
    "# query to retrieve list of all tables in the database\n",
    "\n",
    "%sql SELECT name FROM sqlite_master WHERE type='table'"
   ]
  },
  {
   "cell_type": "markdown",
   "id": "2c1148cf",
   "metadata": {},
   "source": [
    "### Query the database system catalog to retrieve column metadata\n",
    "\n",
    "##### The SCHOOLS table contains a large number of columns. How many columns does this table have?"
   ]
  },
  {
   "cell_type": "code",
   "execution_count": 6,
   "id": "23d55e35",
   "metadata": {},
   "outputs": [
    {
     "data": {
      "text/html": [
       "<span style=\"None\">Running query in &#x27;sqlite:///RealWorldData.db&#x27;</span>"
      ],
      "text/plain": [
       "Running query in 'sqlite:///RealWorldData.db'"
      ]
     },
     "metadata": {},
     "output_type": "display_data"
    },
    {
     "data": {
      "text/html": [
       "<table>\n",
       "    <thead>\n",
       "        <tr>\n",
       "            <th>Num_of_Columns</th>\n",
       "        </tr>\n",
       "    </thead>\n",
       "    <tbody>\n",
       "        <tr>\n",
       "            <td>78</td>\n",
       "        </tr>\n",
       "    </tbody>\n",
       "</table>"
      ],
      "text/plain": [
       "+----------------+\n",
       "| Num_of_Columns |\n",
       "+----------------+\n",
       "|       78       |\n",
       "+----------------+"
      ]
     },
     "execution_count": 6,
     "metadata": {},
     "output_type": "execute_result"
    }
   ],
   "source": [
    "%%sql \n",
    "SELECT count(name) AS Num_of_Columns\n",
    "FROM PRAGMA_TABLE_INFO('CHICAGO_PUBLIC_SCHOOLS_DATA');"
   ]
  },
  {
   "cell_type": "markdown",
   "id": "741ea5bb",
   "metadata": {},
   "source": [
    "##### The CRIME table contains a large number of columns. How many columns does this table have?"
   ]
  },
  {
   "cell_type": "code",
   "execution_count": 7,
   "id": "fa3a0d09",
   "metadata": {},
   "outputs": [
    {
     "data": {
      "text/html": [
       "<span style=\"None\">Running query in &#x27;sqlite:///RealWorldData.db&#x27;</span>"
      ],
      "text/plain": [
       "Running query in 'sqlite:///RealWorldData.db'"
      ]
     },
     "metadata": {},
     "output_type": "display_data"
    },
    {
     "data": {
      "text/html": [
       "<table>\n",
       "    <thead>\n",
       "        <tr>\n",
       "            <th>Num_of_Columns</th>\n",
       "        </tr>\n",
       "    </thead>\n",
       "    <tbody>\n",
       "        <tr>\n",
       "            <td>21</td>\n",
       "        </tr>\n",
       "    </tbody>\n",
       "</table>"
      ],
      "text/plain": [
       "+----------------+\n",
       "| Num_of_Columns |\n",
       "+----------------+\n",
       "|       21       |\n",
       "+----------------+"
      ]
     },
     "execution_count": 7,
     "metadata": {},
     "output_type": "execute_result"
    }
   ],
   "source": [
    "%%sql \n",
    "SELECT count(name) AS Num_of_Columns \n",
    "FROM PRAGMA_TABLE_INFO('CHICAGO_CRIME_DATA');"
   ]
  },
  {
   "cell_type": "markdown",
   "id": "7737c15e",
   "metadata": {},
   "source": [
    "##### The CENSUS table contains a large number of columns. How many columns does this table have?"
   ]
  },
  {
   "cell_type": "code",
   "execution_count": 8,
   "id": "81f64ac3",
   "metadata": {},
   "outputs": [
    {
     "data": {
      "text/html": [
       "<span style=\"None\">Running query in &#x27;sqlite:///RealWorldData.db&#x27;</span>"
      ],
      "text/plain": [
       "Running query in 'sqlite:///RealWorldData.db'"
      ]
     },
     "metadata": {},
     "output_type": "display_data"
    },
    {
     "data": {
      "text/html": [
       "<table>\n",
       "    <thead>\n",
       "        <tr>\n",
       "            <th>Num_of_Columns</th>\n",
       "        </tr>\n",
       "    </thead>\n",
       "    <tbody>\n",
       "        <tr>\n",
       "            <td>9</td>\n",
       "        </tr>\n",
       "    </tbody>\n",
       "</table>"
      ],
      "text/plain": [
       "+----------------+\n",
       "| Num_of_Columns |\n",
       "+----------------+\n",
       "|       9        |\n",
       "+----------------+"
      ]
     },
     "execution_count": 8,
     "metadata": {},
     "output_type": "execute_result"
    }
   ],
   "source": [
    "%%sql \n",
    "SELECT count(name) AS Num_of_Columns \n",
    "FROM PRAGMA_TABLE_INFO('CENSUS_DATA');"
   ]
  },
  {
   "cell_type": "markdown",
   "id": "f25cc6d0",
   "metadata": {},
   "source": [
    "### PROBLEMS"
   ]
  },
  {
   "cell_type": "markdown",
   "id": "da1146e3",
   "metadata": {},
   "source": [
    "#### Problem 1\n",
    "\n",
    "##### How many Elementary Schools are in the dataset?"
   ]
  },
  {
   "cell_type": "code",
   "execution_count": 9,
   "id": "4432df94",
   "metadata": {},
   "outputs": [
    {
     "data": {
      "text/html": [
       "<span style=\"None\">Running query in &#x27;sqlite:///RealWorldData.db&#x27;</span>"
      ],
      "text/plain": [
       "Running query in 'sqlite:///RealWorldData.db'"
      ]
     },
     "metadata": {},
     "output_type": "display_data"
    },
    {
     "data": {
      "text/html": [
       "<table>\n",
       "    <thead>\n",
       "        <tr>\n",
       "            <th>Num_Ele_Schools</th>\n",
       "        </tr>\n",
       "    </thead>\n",
       "    <tbody>\n",
       "        <tr>\n",
       "            <td>462</td>\n",
       "        </tr>\n",
       "    </tbody>\n",
       "</table>"
      ],
      "text/plain": [
       "+-----------------+\n",
       "| Num_Ele_Schools |\n",
       "+-----------------+\n",
       "|       462       |\n",
       "+-----------------+"
      ]
     },
     "execution_count": 9,
     "metadata": {},
     "output_type": "execute_result"
    }
   ],
   "source": [
    "%%sql \n",
    "SELECT COUNT(*) AS Num_Ele_Schools\n",
    "FROM CHICAGO_PUBLIC_SCHOOLS_DATA \n",
    "WHERE \"Elementary, Middle, or High School\" = \"ES\""
   ]
  },
  {
   "cell_type": "markdown",
   "id": "62657e08",
   "metadata": {},
   "source": [
    "#### Problem 2\n",
    "\n",
    "##### What is the highest Safety Score?\n"
   ]
  },
  {
   "cell_type": "code",
   "execution_count": 10,
   "id": "43e912dc",
   "metadata": {},
   "outputs": [
    {
     "data": {
      "text/html": [
       "<span style=\"None\">Running query in &#x27;sqlite:///RealWorldData.db&#x27;</span>"
      ],
      "text/plain": [
       "Running query in 'sqlite:///RealWorldData.db'"
      ]
     },
     "metadata": {},
     "output_type": "display_data"
    },
    {
     "data": {
      "text/html": [
       "<table>\n",
       "    <thead>\n",
       "        <tr>\n",
       "            <th>Max_Safety_Score</th>\n",
       "        </tr>\n",
       "    </thead>\n",
       "    <tbody>\n",
       "        <tr>\n",
       "            <td>99.0</td>\n",
       "        </tr>\n",
       "    </tbody>\n",
       "</table>"
      ],
      "text/plain": [
       "+------------------+\n",
       "| Max_Safety_Score |\n",
       "+------------------+\n",
       "|       99.0       |\n",
       "+------------------+"
      ]
     },
     "execution_count": 10,
     "metadata": {},
     "output_type": "execute_result"
    }
   ],
   "source": [
    "%%sql \n",
    "SELECT MAX(safety_score) AS Max_Safety_Score\n",
    "FROM CHICAGO_PUBLIC_SCHOOLS_DATA;"
   ]
  },
  {
   "cell_type": "markdown",
   "id": "de9e723c",
   "metadata": {},
   "source": [
    "#### Problem 3\n",
    "\n",
    "##### Which schools have highest Safety Score?"
   ]
  },
  {
   "cell_type": "code",
   "execution_count": 11,
   "id": "64e0a4d4",
   "metadata": {},
   "outputs": [
    {
     "data": {
      "text/html": [
       "<span style=\"None\">Running query in &#x27;sqlite:///RealWorldData.db&#x27;</span>"
      ],
      "text/plain": [
       "Running query in 'sqlite:///RealWorldData.db'"
      ]
     },
     "metadata": {},
     "output_type": "display_data"
    },
    {
     "data": {
      "text/html": [
       "<table>\n",
       "    <thead>\n",
       "        <tr>\n",
       "            <th>NAME_OF_SCHOOL</th>\n",
       "            <th>SAFETY_SCORE</th>\n",
       "        </tr>\n",
       "    </thead>\n",
       "    <tbody>\n",
       "        <tr>\n",
       "            <td>Abraham Lincoln Elementary School</td>\n",
       "            <td>99.0</td>\n",
       "        </tr>\n",
       "        <tr>\n",
       "            <td>Alexander Graham Bell Elementary School</td>\n",
       "            <td>99.0</td>\n",
       "        </tr>\n",
       "        <tr>\n",
       "            <td>Annie Keller Elementary Gifted Magnet School</td>\n",
       "            <td>99.0</td>\n",
       "        </tr>\n",
       "        <tr>\n",
       "            <td>Augustus H Burley Elementary School</td>\n",
       "            <td>99.0</td>\n",
       "        </tr>\n",
       "        <tr>\n",
       "            <td>Edgar Allan Poe Elementary Classical School</td>\n",
       "            <td>99.0</td>\n",
       "        </tr>\n",
       "        <tr>\n",
       "            <td>Edgebrook Elementary School</td>\n",
       "            <td>99.0</td>\n",
       "        </tr>\n",
       "        <tr>\n",
       "            <td>Ellen Mitchell Elementary School</td>\n",
       "            <td>99.0</td>\n",
       "        </tr>\n",
       "        <tr>\n",
       "            <td>James E McDade Elementary Classical School</td>\n",
       "            <td>99.0</td>\n",
       "        </tr>\n",
       "        <tr>\n",
       "            <td>James G Blaine Elementary School</td>\n",
       "            <td>99.0</td>\n",
       "        </tr>\n",
       "        <tr>\n",
       "            <td>LaSalle Elementary Language Academy</td>\n",
       "            <td>99.0</td>\n",
       "        </tr>\n",
       "    </tbody>\n",
       "</table>\n",
       "<span style=\"font-style:italic;text-align:center;\">Truncated to <a href=\"https://jupysql.ploomber.io/en/latest/api/configuration.html#displaylimit\">displaylimit</a> of 10.</span>"
      ],
      "text/plain": [
       "+----------------------------------------------+--------------+\n",
       "|                NAME_OF_SCHOOL                | SAFETY_SCORE |\n",
       "+----------------------------------------------+--------------+\n",
       "|      Abraham Lincoln Elementary School       |     99.0     |\n",
       "|   Alexander Graham Bell Elementary School    |     99.0     |\n",
       "| Annie Keller Elementary Gifted Magnet School |     99.0     |\n",
       "|     Augustus H Burley Elementary School      |     99.0     |\n",
       "| Edgar Allan Poe Elementary Classical School  |     99.0     |\n",
       "|         Edgebrook Elementary School          |     99.0     |\n",
       "|       Ellen Mitchell Elementary School       |     99.0     |\n",
       "|  James E McDade Elementary Classical School  |     99.0     |\n",
       "|       James G Blaine Elementary School       |     99.0     |\n",
       "|     LaSalle Elementary Language Academy      |     99.0     |\n",
       "+----------------------------------------------+--------------+\n",
       "Truncated to displaylimit of 10."
      ]
     },
     "execution_count": 11,
     "metadata": {},
     "output_type": "execute_result"
    }
   ],
   "source": [
    "%%sql \n",
    "SELECT \n",
    "    Name_of_School, \n",
    "    Safety_Score \n",
    "FROM CHICAGO_PUBLIC_SCHOOLS_DATA \n",
    "WHERE Safety_Score = (\n",
    "             SELECT MAX(Safety_Score) \n",
    "             FROM CHICAGO_PUBLIC_SCHOOLS_DATA);"
   ]
  },
  {
   "cell_type": "markdown",
   "id": "55960a11",
   "metadata": {},
   "source": [
    "#### Problem 4\n",
    "\n",
    "##### What are the top 10 schools with the highest \"Average Student Attendance\"?\n"
   ]
  },
  {
   "cell_type": "code",
   "execution_count": 12,
   "id": "fef8d24d",
   "metadata": {},
   "outputs": [
    {
     "data": {
      "text/html": [
       "<span style=\"None\">Running query in &#x27;sqlite:///RealWorldData.db&#x27;</span>"
      ],
      "text/plain": [
       "Running query in 'sqlite:///RealWorldData.db'"
      ]
     },
     "metadata": {},
     "output_type": "display_data"
    },
    {
     "data": {
      "text/html": [
       "<table>\n",
       "    <thead>\n",
       "        <tr>\n",
       "            <th>NAME_OF_SCHOOL</th>\n",
       "            <th>AVERAGE_STUDENT_ATTENDANCE</th>\n",
       "        </tr>\n",
       "    </thead>\n",
       "    <tbody>\n",
       "        <tr>\n",
       "            <td>John Charles Haines Elementary School</td>\n",
       "            <td>98.40%</td>\n",
       "        </tr>\n",
       "        <tr>\n",
       "            <td>James Ward Elementary School</td>\n",
       "            <td>97.80%</td>\n",
       "        </tr>\n",
       "        <tr>\n",
       "            <td>Edgar Allan Poe Elementary Classical School</td>\n",
       "            <td>97.60%</td>\n",
       "        </tr>\n",
       "        <tr>\n",
       "            <td>Orozco Fine Arts & Sciences Elementary School</td>\n",
       "            <td>97.60%</td>\n",
       "        </tr>\n",
       "        <tr>\n",
       "            <td>Rachel Carson Elementary School</td>\n",
       "            <td>97.60%</td>\n",
       "        </tr>\n",
       "        <tr>\n",
       "            <td>Annie Keller Elementary Gifted Magnet School</td>\n",
       "            <td>97.50%</td>\n",
       "        </tr>\n",
       "        <tr>\n",
       "            <td>Andrew Jackson Elementary Language Academy</td>\n",
       "            <td>97.40%</td>\n",
       "        </tr>\n",
       "        <tr>\n",
       "            <td>Lenart Elementary Regional Gifted Center</td>\n",
       "            <td>97.40%</td>\n",
       "        </tr>\n",
       "        <tr>\n",
       "            <td>Disney II Magnet School</td>\n",
       "            <td>97.30%</td>\n",
       "        </tr>\n",
       "        <tr>\n",
       "            <td>John H Vanderpoel Elementary Magnet School</td>\n",
       "            <td>97.20%</td>\n",
       "        </tr>\n",
       "    </tbody>\n",
       "</table>\n",
       "<span style=\"font-style:italic;text-align:center;\">Truncated to <a href=\"https://jupysql.ploomber.io/en/latest/api/configuration.html#displaylimit\">displaylimit</a> of 10.</span>"
      ],
      "text/plain": [
       "+-----------------------------------------------+----------------------------+\n",
       "|                 NAME_OF_SCHOOL                | AVERAGE_STUDENT_ATTENDANCE |\n",
       "+-----------------------------------------------+----------------------------+\n",
       "|     John Charles Haines Elementary School     |           98.40%           |\n",
       "|          James Ward Elementary School         |           97.80%           |\n",
       "|  Edgar Allan Poe Elementary Classical School  |           97.60%           |\n",
       "| Orozco Fine Arts & Sciences Elementary School |           97.60%           |\n",
       "|        Rachel Carson Elementary School        |           97.60%           |\n",
       "|  Annie Keller Elementary Gifted Magnet School |           97.50%           |\n",
       "|   Andrew Jackson Elementary Language Academy  |           97.40%           |\n",
       "|    Lenart Elementary Regional Gifted Center   |           97.40%           |\n",
       "|            Disney II Magnet School            |           97.30%           |\n",
       "|   John H Vanderpoel Elementary Magnet School  |           97.20%           |\n",
       "+-----------------------------------------------+----------------------------+\n",
       "Truncated to displaylimit of 10."
      ]
     },
     "execution_count": 12,
     "metadata": {},
     "output_type": "execute_result"
    }
   ],
   "source": [
    "%%sql \n",
    "SELECT \n",
    "    name_of_school, \n",
    "    average_student_attendance\n",
    "FROM CHICAGO_PUBLIC_SCHOOLS_DATA \n",
    "ORDER BY average_student_attendance DESC \n",
    "LIMIT 10;"
   ]
  },
  {
   "cell_type": "markdown",
   "id": "61133600",
   "metadata": {},
   "source": [
    "#### Problem 5\n",
    "\n",
    "##### Retrieve the list of 5 Schools with the lowest Average Student Attendance sorted in ascending order based on attendance"
   ]
  },
  {
   "cell_type": "code",
   "execution_count": 13,
   "id": "43264350",
   "metadata": {},
   "outputs": [
    {
     "data": {
      "text/html": [
       "<span style=\"None\">Running query in &#x27;sqlite:///RealWorldData.db&#x27;</span>"
      ],
      "text/plain": [
       "Running query in 'sqlite:///RealWorldData.db'"
      ]
     },
     "metadata": {},
     "output_type": "display_data"
    },
    {
     "data": {
      "text/html": [
       "<table>\n",
       "    <thead>\n",
       "        <tr>\n",
       "            <th>NAME_OF_SCHOOL</th>\n",
       "            <th>Average_Student_Attendance</th>\n",
       "        </tr>\n",
       "    </thead>\n",
       "    <tbody>\n",
       "        <tr>\n",
       "            <td>Richard T Crane Technical Preparatory High School</td>\n",
       "            <td>57.90</td>\n",
       "        </tr>\n",
       "        <tr>\n",
       "            <td>Barbara Vick Early Childhood & Family Center</td>\n",
       "            <td>60.90</td>\n",
       "        </tr>\n",
       "        <tr>\n",
       "            <td>Dyett High School</td>\n",
       "            <td>62.50</td>\n",
       "        </tr>\n",
       "        <tr>\n",
       "            <td>Wendell Phillips Academy High School</td>\n",
       "            <td>63.00</td>\n",
       "        </tr>\n",
       "        <tr>\n",
       "            <td>Orr Academy High School</td>\n",
       "            <td>66.30</td>\n",
       "        </tr>\n",
       "    </tbody>\n",
       "</table>"
      ],
      "text/plain": [
       "+---------------------------------------------------+----------------------------+\n",
       "|                   NAME_OF_SCHOOL                  | Average_Student_Attendance |\n",
       "+---------------------------------------------------+----------------------------+\n",
       "| Richard T Crane Technical Preparatory High School |           57.90            |\n",
       "|    Barbara Vick Early Childhood & Family Center   |           60.90            |\n",
       "|                 Dyett High School                 |           62.50            |\n",
       "|        Wendell Phillips Academy High School       |           63.00            |\n",
       "|              Orr Academy High School              |           66.30            |\n",
       "+---------------------------------------------------+----------------------------+"
      ]
     },
     "execution_count": 13,
     "metadata": {},
     "output_type": "execute_result"
    }
   ],
   "source": [
    "%%sql \n",
    "SELECT \n",
    "    name_of_school, \n",
    "    REPLACE(Average_Student_Attendance, '%', '') AS Average_Student_Attendance\n",
    "FROM CHICAGO_PUBLIC_SCHOOLS_DATA \n",
    "ORDER BY average_student_attendance NULLS LAST\n",
    "LIMIT 5;"
   ]
  },
  {
   "cell_type": "markdown",
   "id": "335f66bf",
   "metadata": {},
   "source": [
    "#### Problem 6\n",
    "\n",
    "##### Which Schools have Average Student Attendance lower than 70%?"
   ]
  },
  {
   "cell_type": "code",
   "execution_count": 14,
   "id": "1e5ff6a4",
   "metadata": {},
   "outputs": [
    {
     "data": {
      "text/html": [
       "<span style=\"None\">Running query in &#x27;sqlite:///RealWorldData.db&#x27;</span>"
      ],
      "text/plain": [
       "Running query in 'sqlite:///RealWorldData.db'"
      ]
     },
     "metadata": {},
     "output_type": "display_data"
    },
    {
     "data": {
      "text/html": [
       "<table>\n",
       "    <thead>\n",
       "        <tr>\n",
       "            <th>NAME_OF_SCHOOL</th>\n",
       "            <th>Average_Student_Attendance</th>\n",
       "        </tr>\n",
       "    </thead>\n",
       "    <tbody>\n",
       "        <tr>\n",
       "            <td>Richard T Crane Technical Preparatory High School</td>\n",
       "            <td>57.90</td>\n",
       "        </tr>\n",
       "        <tr>\n",
       "            <td>Barbara Vick Early Childhood & Family Center</td>\n",
       "            <td>60.90</td>\n",
       "        </tr>\n",
       "        <tr>\n",
       "            <td>Dyett High School</td>\n",
       "            <td>62.50</td>\n",
       "        </tr>\n",
       "        <tr>\n",
       "            <td>Wendell Phillips Academy High School</td>\n",
       "            <td>63.00</td>\n",
       "        </tr>\n",
       "        <tr>\n",
       "            <td>Orr Academy High School</td>\n",
       "            <td>66.30</td>\n",
       "        </tr>\n",
       "        <tr>\n",
       "            <td>Manley Career Academy High School</td>\n",
       "            <td>66.80</td>\n",
       "        </tr>\n",
       "        <tr>\n",
       "            <td>Chicago Vocational Career Academy High School</td>\n",
       "            <td>68.80</td>\n",
       "        </tr>\n",
       "        <tr>\n",
       "            <td>Roberto Clemente Community Academy High School</td>\n",
       "            <td>69.60</td>\n",
       "        </tr>\n",
       "    </tbody>\n",
       "</table>"
      ],
      "text/plain": [
       "+---------------------------------------------------+----------------------------+\n",
       "|                   NAME_OF_SCHOOL                  | Average_Student_Attendance |\n",
       "+---------------------------------------------------+----------------------------+\n",
       "| Richard T Crane Technical Preparatory High School |           57.90            |\n",
       "|    Barbara Vick Early Childhood & Family Center   |           60.90            |\n",
       "|                 Dyett High School                 |           62.50            |\n",
       "|        Wendell Phillips Academy High School       |           63.00            |\n",
       "|              Orr Academy High School              |           66.30            |\n",
       "|         Manley Career Academy High School         |           66.80            |\n",
       "|   Chicago Vocational Career Academy High School   |           68.80            |\n",
       "|   Roberto Clemente Community Academy High School  |           69.60            |\n",
       "+---------------------------------------------------+----------------------------+"
      ]
     },
     "execution_count": 14,
     "metadata": {},
     "output_type": "execute_result"
    }
   ],
   "source": [
    "%%sql \n",
    "SELECT \n",
    "    Name_of_School, \n",
    "    REPLACE(Average_Student_Attendance, '%', '') AS Average_Student_Attendance  \n",
    "FROM CHICAGO_PUBLIC_SCHOOLS_DATA \n",
    "WHERE CAST (REPLACE(Average_Student_Attendance, '%', '') AS DOUBLE ) < 70 \n",
    "ORDER BY Average_Student_Attendance"
   ]
  },
  {
   "cell_type": "markdown",
   "id": "253ce378",
   "metadata": {},
   "source": [
    "#### Problem 7\n",
    "\n",
    "##### Get the total College Enrollment for each Community Area\n"
   ]
  },
  {
   "cell_type": "code",
   "execution_count": 15,
   "id": "8c15a8d5",
   "metadata": {},
   "outputs": [
    {
     "data": {
      "text/html": [
       "<span style=\"None\">Running query in &#x27;sqlite:///RealWorldData.db&#x27;</span>"
      ],
      "text/plain": [
       "Running query in 'sqlite:///RealWorldData.db'"
      ]
     },
     "metadata": {},
     "output_type": "display_data"
    },
    {
     "data": {
      "text/html": [
       "<table>\n",
       "    <thead>\n",
       "        <tr>\n",
       "            <th>COMMUNITY_AREA_NAME</th>\n",
       "            <th>Total_College_Enrollment</th>\n",
       "        </tr>\n",
       "    </thead>\n",
       "    <tbody>\n",
       "        <tr>\n",
       "            <td>SOUTH LAWNDALE</td>\n",
       "            <td>14793</td>\n",
       "        </tr>\n",
       "        <tr>\n",
       "            <td>BELMONT CRAGIN</td>\n",
       "            <td>14386</td>\n",
       "        </tr>\n",
       "        <tr>\n",
       "            <td>AUSTIN</td>\n",
       "            <td>10933</td>\n",
       "        </tr>\n",
       "        <tr>\n",
       "            <td>GAGE PARK</td>\n",
       "            <td>9915</td>\n",
       "        </tr>\n",
       "        <tr>\n",
       "            <td>BRIGHTON PARK</td>\n",
       "            <td>9647</td>\n",
       "        </tr>\n",
       "    </tbody>\n",
       "</table>"
      ],
      "text/plain": [
       "+---------------------+--------------------------+\n",
       "| COMMUNITY_AREA_NAME | Total_College_Enrollment |\n",
       "+---------------------+--------------------------+\n",
       "|    SOUTH LAWNDALE   |          14793           |\n",
       "|    BELMONT CRAGIN   |          14386           |\n",
       "|        AUSTIN       |          10933           |\n",
       "|      GAGE PARK      |           9915           |\n",
       "|    BRIGHTON PARK    |           9647           |\n",
       "+---------------------+--------------------------+"
      ]
     },
     "execution_count": 15,
     "metadata": {},
     "output_type": "execute_result"
    }
   ],
   "source": [
    "%%sql \n",
    "SELECT \n",
    "    community_area_name, \n",
    "    SUM(College_Enrollment) AS Total_College_Enrollment\n",
    "FROM CHICAGO_PUBLIC_SCHOOLS_DATA\n",
    "GROUP BY community_area_name\n",
    "ORDER BY Total_College_Enrollment DESC\n",
    "LIMIT 5;"
   ]
  },
  {
   "cell_type": "markdown",
   "id": "56a5510b",
   "metadata": {},
   "source": [
    "#### Problem 8\n",
    "\n",
    "##### Get the 5 Community Areas with the least total College Enrollment  sorted in ascending order"
   ]
  },
  {
   "cell_type": "code",
   "execution_count": 16,
   "id": "3549967a",
   "metadata": {},
   "outputs": [
    {
     "data": {
      "text/html": [
       "<span style=\"None\">Running query in &#x27;sqlite:///RealWorldData.db&#x27;</span>"
      ],
      "text/plain": [
       "Running query in 'sqlite:///RealWorldData.db'"
      ]
     },
     "metadata": {},
     "output_type": "display_data"
    },
    {
     "data": {
      "text/html": [
       "<table>\n",
       "    <thead>\n",
       "        <tr>\n",
       "            <th>COMMUNITY_AREA_NAME</th>\n",
       "            <th>Total_College_Enrollment</th>\n",
       "        </tr>\n",
       "    </thead>\n",
       "    <tbody>\n",
       "        <tr>\n",
       "            <td>OAKLAND</td>\n",
       "            <td>140</td>\n",
       "        </tr>\n",
       "        <tr>\n",
       "            <td>FULLER PARK</td>\n",
       "            <td>531</td>\n",
       "        </tr>\n",
       "        <tr>\n",
       "            <td>BURNSIDE</td>\n",
       "            <td>549</td>\n",
       "        </tr>\n",
       "        <tr>\n",
       "            <td>OHARE</td>\n",
       "            <td>786</td>\n",
       "        </tr>\n",
       "        <tr>\n",
       "            <td>LOOP</td>\n",
       "            <td>871</td>\n",
       "        </tr>\n",
       "    </tbody>\n",
       "</table>"
      ],
      "text/plain": [
       "+---------------------+--------------------------+\n",
       "| COMMUNITY_AREA_NAME | Total_College_Enrollment |\n",
       "+---------------------+--------------------------+\n",
       "|       OAKLAND       |           140            |\n",
       "|     FULLER PARK     |           531            |\n",
       "|       BURNSIDE      |           549            |\n",
       "|        OHARE        |           786            |\n",
       "|         LOOP        |           871            |\n",
       "+---------------------+--------------------------+"
      ]
     },
     "execution_count": 16,
     "metadata": {},
     "output_type": "execute_result"
    }
   ],
   "source": [
    "%%sql \n",
    "SELECT \n",
    "    COMMUNITY_AREA_NAME, \n",
    "    SUM(College_Enrollment) AS Total_College_Enrollment\n",
    "FROM CHICAGO_PUBLIC_SCHOOLS_DATA\n",
    "GROUP BY COMMUNITY_AREA_NAME\n",
    "ORDER BY Total_College_Enrollment \n",
    "LIMIT 5;"
   ]
  },
  {
   "cell_type": "markdown",
   "id": "6acbcbb4",
   "metadata": {},
   "source": [
    "#### Problem 9\n",
    "\n",
    "##### List 5 schools with lowest safety score"
   ]
  },
  {
   "cell_type": "code",
   "execution_count": 17,
   "id": "df530725",
   "metadata": {},
   "outputs": [
    {
     "data": {
      "text/html": [
       "<span style=\"None\">Running query in &#x27;sqlite:///RealWorldData.db&#x27;</span>"
      ],
      "text/plain": [
       "Running query in 'sqlite:///RealWorldData.db'"
      ]
     },
     "metadata": {},
     "output_type": "display_data"
    },
    {
     "data": {
      "text/html": [
       "<table>\n",
       "    <thead>\n",
       "        <tr>\n",
       "            <th>NAME_OF_SCHOOL</th>\n",
       "            <th>SAFETY_SCORE</th>\n",
       "        </tr>\n",
       "    </thead>\n",
       "    <tbody>\n",
       "        <tr>\n",
       "            <td>Edmond Burke Elementary School</td>\n",
       "            <td>1.0</td>\n",
       "        </tr>\n",
       "        <tr>\n",
       "            <td>Luke O'Toole Elementary School</td>\n",
       "            <td>5.0</td>\n",
       "        </tr>\n",
       "        <tr>\n",
       "            <td>George W Tilton Elementary School</td>\n",
       "            <td>6.0</td>\n",
       "        </tr>\n",
       "        <tr>\n",
       "            <td>Foster Park Elementary School</td>\n",
       "            <td>11.0</td>\n",
       "        </tr>\n",
       "        <tr>\n",
       "            <td>Emil G Hirsch Metropolitan High School</td>\n",
       "            <td>13.0</td>\n",
       "        </tr>\n",
       "    </tbody>\n",
       "</table>"
      ],
      "text/plain": [
       "+----------------------------------------+--------------+\n",
       "|             NAME_OF_SCHOOL             | SAFETY_SCORE |\n",
       "+----------------------------------------+--------------+\n",
       "|     Edmond Burke Elementary School     |     1.0      |\n",
       "|     Luke O'Toole Elementary School     |     5.0      |\n",
       "|   George W Tilton Elementary School    |     6.0      |\n",
       "|     Foster Park Elementary School      |     11.0     |\n",
       "| Emil G Hirsch Metropolitan High School |     13.0     |\n",
       "+----------------------------------------+--------------+"
      ]
     },
     "execution_count": 17,
     "metadata": {},
     "output_type": "execute_result"
    }
   ],
   "source": [
    "%%sql \n",
    "SELECT \n",
    "    name_of_school, \n",
    "    safety_score \n",
    "FROM CHICAGO_PUBLIC_SCHOOLS_DATA  \n",
    "WHERE safety_score !='None' \n",
    "ORDER BY safety_score \n",
    "LIMIT 5;"
   ]
  },
  {
   "cell_type": "markdown",
   "id": "5a175fd6",
   "metadata": {},
   "source": [
    "#### Problem 10\n",
    "\n",
    "##### The name of the community area with highest hardship index"
   ]
  },
  {
   "cell_type": "code",
   "execution_count": 18,
   "id": "264fd372",
   "metadata": {},
   "outputs": [
    {
     "data": {
      "text/html": [
       "<span style=\"None\">Running query in &#x27;sqlite:///RealWorldData.db&#x27;</span>"
      ],
      "text/plain": [
       "Running query in 'sqlite:///RealWorldData.db'"
      ]
     },
     "metadata": {},
     "output_type": "display_data"
    },
    {
     "data": {
      "text/html": [
       "<table>\n",
       "    <thead>\n",
       "        <tr>\n",
       "            <th>COMMUNITY_AREA_NAME</th>\n",
       "        </tr>\n",
       "    </thead>\n",
       "    <tbody>\n",
       "        <tr>\n",
       "            <td>Riverdale</td>\n",
       "        </tr>\n",
       "    </tbody>\n",
       "</table>"
      ],
      "text/plain": [
       "+---------------------+\n",
       "| COMMUNITY_AREA_NAME |\n",
       "+---------------------+\n",
       "|      Riverdale      |\n",
       "+---------------------+"
      ]
     },
     "execution_count": 18,
     "metadata": {},
     "output_type": "execute_result"
    }
   ],
   "source": [
    "%%sql\n",
    "SELECT community_area_name \n",
    "FROM CENSUS_DATA\n",
    "WHERE HARDSHIP_INDEX = (\n",
    "    SELECT MAX(hardship_index) \n",
    "    FROM CENSUS_DATA);\n"
   ]
  },
  {
   "cell_type": "markdown",
   "id": "de72555d",
   "metadata": {},
   "source": [
    "#### Problem 11\n",
    "\n",
    "##### List all case numbers for crimes involving minors?(children are not considered minors for the purposes of crime analysis)"
   ]
  },
  {
   "cell_type": "code",
   "execution_count": 19,
   "id": "570c2478",
   "metadata": {},
   "outputs": [
    {
     "data": {
      "text/html": [
       "<span style=\"None\">Running query in &#x27;sqlite:///RealWorldData.db&#x27;</span>"
      ],
      "text/plain": [
       "Running query in 'sqlite:///RealWorldData.db'"
      ]
     },
     "metadata": {},
     "output_type": "display_data"
    },
    {
     "data": {
      "text/html": [
       "<table>\n",
       "    <thead>\n",
       "        <tr>\n",
       "            <th>CASE_NUMBER</th>\n",
       "        </tr>\n",
       "    </thead>\n",
       "    <tbody>\n",
       "        <tr>\n",
       "            <td>HL266884</td>\n",
       "        </tr>\n",
       "        <tr>\n",
       "            <td>HK238408</td>\n",
       "        </tr>\n",
       "    </tbody>\n",
       "</table>"
      ],
      "text/plain": [
       "+-------------+\n",
       "| CASE_NUMBER |\n",
       "+-------------+\n",
       "|   HL266884  |\n",
       "|   HK238408  |\n",
       "+-------------+"
      ]
     },
     "execution_count": 19,
     "metadata": {},
     "output_type": "execute_result"
    }
   ],
   "source": [
    "%%sql\n",
    "SELECT case_number \n",
    "FROM CHICAGO_CRIME_DATA\n",
    "WHERE description LIKE '%MINOR';"
   ]
  },
  {
   "cell_type": "markdown",
   "id": "4a1f9b10",
   "metadata": {},
   "source": [
    "#### Problem 12\n",
    "\n",
    "##### List all kidnapping crimes involving a child?"
   ]
  },
  {
   "cell_type": "code",
   "execution_count": 20,
   "id": "0ba4225d",
   "metadata": {},
   "outputs": [
    {
     "data": {
      "text/html": [
       "<span style=\"None\">Running query in &#x27;sqlite:///RealWorldData.db&#x27;</span>"
      ],
      "text/plain": [
       "Running query in 'sqlite:///RealWorldData.db'"
      ]
     },
     "metadata": {},
     "output_type": "display_data"
    },
    {
     "data": {
      "text/html": [
       "<table>\n",
       "    <thead>\n",
       "        <tr>\n",
       "            <th>ID</th>\n",
       "            <th>CASE_NUMBER</th>\n",
       "            <th>DATE</th>\n",
       "            <th>BLOCK</th>\n",
       "            <th>IUCR</th>\n",
       "            <th>PRIMARY_TYPE</th>\n",
       "            <th>DESCRIPTION</th>\n",
       "            <th>LOCATION_DESCRIPTION</th>\n",
       "            <th>ARREST</th>\n",
       "            <th>DOMESTIC</th>\n",
       "            <th>BEAT</th>\n",
       "            <th>DISTRICT</th>\n",
       "            <th>WARD</th>\n",
       "            <th>COMMUNITY_AREA_NUMBER</th>\n",
       "            <th>FBICODE</th>\n",
       "            <th>X_COORDINATE</th>\n",
       "            <th>Y_COORDINATE</th>\n",
       "            <th>YEAR</th>\n",
       "            <th>LATITUDE</th>\n",
       "            <th>LONGITUDE</th>\n",
       "            <th>LOCATION</th>\n",
       "        </tr>\n",
       "    </thead>\n",
       "    <tbody>\n",
       "        <tr>\n",
       "            <td>5276766</td>\n",
       "            <td>HN144152</td>\n",
       "            <td>2007-01-26</td>\n",
       "            <td>050XX W VAN BUREN ST</td>\n",
       "            <td>1792</td>\n",
       "            <td>KIDNAPPING</td>\n",
       "            <td>CHILD ABDUCTION/STRANGER</td>\n",
       "            <td>STREET</td>\n",
       "            <td>0</td>\n",
       "            <td>0</td>\n",
       "            <td>1533</td>\n",
       "            <td>15</td>\n",
       "            <td>29.0</td>\n",
       "            <td>25.0</td>\n",
       "            <td>20</td>\n",
       "            <td>1143050.0</td>\n",
       "            <td>1897546.0</td>\n",
       "            <td>2007</td>\n",
       "            <td>41.87490841</td>\n",
       "            <td>-87.75024931</td>\n",
       "            <td>(41.874908413, -87.750249307)</td>\n",
       "        </tr>\n",
       "    </tbody>\n",
       "</table>"
      ],
      "text/plain": [
       "+---------+-------------+------------+----------------------+------+--------------+--------------------------+----------------------+--------+----------+------+----------+------+-----------------------+---------+--------------+--------------+------+-------------+--------------+-------------------------------+\n",
       "|    ID   | CASE_NUMBER |    DATE    |        BLOCK         | IUCR | PRIMARY_TYPE |       DESCRIPTION        | LOCATION_DESCRIPTION | ARREST | DOMESTIC | BEAT | DISTRICT | WARD | COMMUNITY_AREA_NUMBER | FBICODE | X_COORDINATE | Y_COORDINATE | YEAR |   LATITUDE  |  LONGITUDE   |            LOCATION           |\n",
       "+---------+-------------+------------+----------------------+------+--------------+--------------------------+----------------------+--------+----------+------+----------+------+-----------------------+---------+--------------+--------------+------+-------------+--------------+-------------------------------+\n",
       "| 5276766 |   HN144152  | 2007-01-26 | 050XX W VAN BUREN ST | 1792 |  KIDNAPPING  | CHILD ABDUCTION/STRANGER |        STREET        |   0    |    0     | 1533 |    15    | 29.0 |          25.0         |    20   |  1143050.0   |  1897546.0   | 2007 | 41.87490841 | -87.75024931 | (41.874908413, -87.750249307) |\n",
       "+---------+-------------+------------+----------------------+------+--------------+--------------------------+----------------------+--------+----------+------+----------+------+-----------------------+---------+--------------+--------------+------+-------------+--------------+-------------------------------+"
      ]
     },
     "execution_count": 20,
     "metadata": {},
     "output_type": "execute_result"
    }
   ],
   "source": [
    "%%sql\n",
    "SELECT * \n",
    "FROM CHICAGO_CRIME_DATA\n",
    "WHERE primary_type = 'KIDNAPPING'"
   ]
  },
  {
   "cell_type": "markdown",
   "id": "b228d6e8",
   "metadata": {},
   "source": [
    "#### Problem 13\n",
    "\n",
    "##### What kinds of crimes were recorded at schools?"
   ]
  },
  {
   "cell_type": "code",
   "execution_count": 21,
   "id": "b5785cf5",
   "metadata": {},
   "outputs": [
    {
     "data": {
      "text/html": [
       "<span style=\"None\">Running query in &#x27;sqlite:///RealWorldData.db&#x27;</span>"
      ],
      "text/plain": [
       "Running query in 'sqlite:///RealWorldData.db'"
      ]
     },
     "metadata": {},
     "output_type": "display_data"
    },
    {
     "data": {
      "text/html": [
       "<table>\n",
       "    <thead>\n",
       "        <tr>\n",
       "            <th>PRIMARY_TYPE</th>\n",
       "        </tr>\n",
       "    </thead>\n",
       "    <tbody>\n",
       "        <tr>\n",
       "            <td>BATTERY</td>\n",
       "        </tr>\n",
       "        <tr>\n",
       "            <td>CRIMINAL DAMAGE</td>\n",
       "        </tr>\n",
       "        <tr>\n",
       "            <td>NARCOTICS</td>\n",
       "        </tr>\n",
       "        <tr>\n",
       "            <td>ASSAULT</td>\n",
       "        </tr>\n",
       "        <tr>\n",
       "            <td>CRIMINAL TRESPASS</td>\n",
       "        </tr>\n",
       "        <tr>\n",
       "            <td>PUBLIC PEACE VIOLATION</td>\n",
       "        </tr>\n",
       "    </tbody>\n",
       "</table>"
      ],
      "text/plain": [
       "+------------------------+\n",
       "|      PRIMARY_TYPE      |\n",
       "+------------------------+\n",
       "|        BATTERY         |\n",
       "|    CRIMINAL DAMAGE     |\n",
       "|       NARCOTICS        |\n",
       "|        ASSAULT         |\n",
       "|   CRIMINAL TRESPASS    |\n",
       "| PUBLIC PEACE VIOLATION |\n",
       "+------------------------+"
      ]
     },
     "execution_count": 21,
     "metadata": {},
     "output_type": "execute_result"
    }
   ],
   "source": [
    "%%sql\n",
    "SELECT DISTINCT(primary_type) \n",
    "FROM CHICAGO_CRIME_DATA\n",
    "WHERE location_description LIKE 'SCHOOL%'"
   ]
  },
  {
   "cell_type": "markdown",
   "id": "46f36192",
   "metadata": {},
   "source": [
    "#### Problem 14\n",
    "\n",
    "##### Which community area is most crime prone?"
   ]
  },
  {
   "cell_type": "code",
   "execution_count": 22,
   "id": "965371ff",
   "metadata": {},
   "outputs": [
    {
     "data": {
      "text/html": [
       "<span style=\"None\">Running query in &#x27;sqlite:///RealWorldData.db&#x27;</span>"
      ],
      "text/plain": [
       "Running query in 'sqlite:///RealWorldData.db'"
      ]
     },
     "metadata": {},
     "output_type": "display_data"
    },
    {
     "data": {
      "text/html": [
       "<table>\n",
       "    <thead>\n",
       "        <tr>\n",
       "            <th>ID</th>\n",
       "            <th>CASE_NUMBER</th>\n",
       "            <th>DATE</th>\n",
       "            <th>BLOCK</th>\n",
       "            <th>IUCR</th>\n",
       "            <th>PRIMARY_TYPE</th>\n",
       "            <th>DESCRIPTION</th>\n",
       "            <th>LOCATION_DESCRIPTION</th>\n",
       "            <th>ARREST</th>\n",
       "            <th>DOMESTIC</th>\n",
       "            <th>BEAT</th>\n",
       "            <th>DISTRICT</th>\n",
       "            <th>WARD</th>\n",
       "            <th>COMMUNITY_AREA_NUMBER</th>\n",
       "            <th>FBICODE</th>\n",
       "            <th>X_COORDINATE</th>\n",
       "            <th>Y_COORDINATE</th>\n",
       "            <th>YEAR</th>\n",
       "            <th>LATITUDE</th>\n",
       "            <th>LONGITUDE</th>\n",
       "            <th>LOCATION</th>\n",
       "        </tr>\n",
       "    </thead>\n",
       "    <tbody>\n",
       "        <tr>\n",
       "            <td>9166453</td>\n",
       "            <td>HW303994</td>\n",
       "            <td>2013-06-04</td>\n",
       "            <td>055XX W GLADYS AVE</td>\n",
       "            <td>810</td>\n",
       "            <td>THEFT</td>\n",
       "            <td>OVER $500</td>\n",
       "            <td>VACANT LOT/LAND</td>\n",
       "            <td>0</td>\n",
       "            <td>0</td>\n",
       "            <td>1522</td>\n",
       "            <td>15</td>\n",
       "            <td>29.0</td>\n",
       "            <td>25.0</td>\n",
       "            <td>6</td>\n",
       "            <td>1139693.0</td>\n",
       "            <td>1897797.0</td>\n",
       "            <td>2013</td>\n",
       "            <td>41.87565911</td>\n",
       "            <td>-87.76256886</td>\n",
       "            <td>(41.875659108, -87.762568861)</td>\n",
       "        </tr>\n",
       "    </tbody>\n",
       "</table>"
      ],
      "text/plain": [
       "+---------+-------------+------------+--------------------+------+--------------+-------------+----------------------+--------+----------+------+----------+------+-----------------------+---------+--------------+--------------+------+-------------+--------------+-------------------------------+\n",
       "|    ID   | CASE_NUMBER |    DATE    |       BLOCK        | IUCR | PRIMARY_TYPE | DESCRIPTION | LOCATION_DESCRIPTION | ARREST | DOMESTIC | BEAT | DISTRICT | WARD | COMMUNITY_AREA_NUMBER | FBICODE | X_COORDINATE | Y_COORDINATE | YEAR |   LATITUDE  |  LONGITUDE   |            LOCATION           |\n",
       "+---------+-------------+------------+--------------------+------+--------------+-------------+----------------------+--------+----------+------+----------+------+-----------------------+---------+--------------+--------------+------+-------------+--------------+-------------------------------+\n",
       "| 9166453 |   HW303994  | 2013-06-04 | 055XX W GLADYS AVE | 810  |    THEFT     |  OVER $500  |   VACANT LOT/LAND    |   0    |    0     | 1522 |    15    | 29.0 |          25.0         |    6    |  1139693.0   |  1897797.0   | 2013 | 41.87565911 | -87.76256886 | (41.875659108, -87.762568861) |\n",
       "+---------+-------------+------------+--------------------+------+--------------+-------------+----------------------+--------+----------+------+----------+------+-----------------------+---------+--------------+--------------+------+-------------+--------------+-------------------------------+"
      ]
     },
     "execution_count": 22,
     "metadata": {},
     "output_type": "execute_result"
    }
   ],
   "source": [
    "%%sql\n",
    "SELECT *\n",
    "FROM CHICAGO_CRIME_DATA\n",
    "GROUP BY COMMUNITY_AREA_NUMBER\n",
    "ORDER BY COUNT(*) DESC LIMIT 1"
   ]
  },
  {
   "cell_type": "markdown",
   "id": "275a1d35",
   "metadata": {},
   "source": [
    "#### Problem 15\n",
    "\n",
    "##### Determine the Community Area Name with most number of crimes?"
   ]
  },
  {
   "cell_type": "code",
   "execution_count": 23,
   "id": "57a8fc99",
   "metadata": {},
   "outputs": [
    {
     "data": {
      "text/html": [
       "<span style=\"None\">Running query in &#x27;sqlite:///RealWorldData.db&#x27;</span>"
      ],
      "text/plain": [
       "Running query in 'sqlite:///RealWorldData.db'"
      ]
     },
     "metadata": {},
     "output_type": "display_data"
    },
    {
     "data": {
      "text/html": [
       "<table>\n",
       "    <thead>\n",
       "        <tr>\n",
       "            <th>COMMUNITY_AREA_NAME</th>\n",
       "        </tr>\n",
       "    </thead>\n",
       "    <tbody>\n",
       "        <tr>\n",
       "            <td>Austin</td>\n",
       "        </tr>\n",
       "    </tbody>\n",
       "</table>"
      ],
      "text/plain": [
       "+---------------------+\n",
       "| COMMUNITY_AREA_NAME |\n",
       "+---------------------+\n",
       "|        Austin       |\n",
       "+---------------------+"
      ]
     },
     "execution_count": 23,
     "metadata": {},
     "output_type": "execute_result"
    }
   ],
   "source": [
    "%%sql\n",
    "SELECT community_area_name \n",
    "FROM CENSUS_DATA\n",
    "WHERE community_area_number IN \n",
    "    (SELECT community_area_number\n",
    "     FROM  CHICAGO_CRIME_DATA\n",
    "     GROUP BY community_area_number\n",
    "     ORDER BY COUNT(*) DESC LIMIT 1)"
   ]
  },
  {
   "cell_type": "markdown",
   "id": "07b53c6b",
   "metadata": {},
   "source": [
    "### Author"
   ]
  },
  {
   "cell_type": "markdown",
   "id": "cdac2737",
   "metadata": {},
   "source": [
    "##### Oluwaseyi Akinsanya"
   ]
  },
  {
   "cell_type": "code",
   "execution_count": null,
   "id": "aad345fc",
   "metadata": {},
   "outputs": [],
   "source": []
  }
 ],
 "metadata": {
  "kernelspec": {
   "display_name": "Python 3 (ipykernel)",
   "language": "python",
   "name": "python3"
  },
  "language_info": {
   "codemirror_mode": {
    "name": "ipython",
    "version": 3
   },
   "file_extension": ".py",
   "mimetype": "text/x-python",
   "name": "python",
   "nbconvert_exporter": "python",
   "pygments_lexer": "ipython3",
   "version": "3.11.5"
  }
 },
 "nbformat": 4,
 "nbformat_minor": 5
}
